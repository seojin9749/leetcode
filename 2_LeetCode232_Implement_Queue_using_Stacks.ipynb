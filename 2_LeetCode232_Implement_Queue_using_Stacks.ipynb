{
  "nbformat": 4,
  "nbformat_minor": 0,
  "metadata": {
    "colab": {
      "provenance": []
    },
    "kernelspec": {
      "name": "python3",
      "display_name": "Python 3"
    },
    "language_info": {
      "name": "python"
    }
  },
  "cells": [
    {
      "cell_type": "code",
      "source": [
        "class MyQueue:\n",
        "    def __init__(self):\n",
        "        self.in_stack = []\n",
        "        self.out_stack = []\n",
        "\n",
        "    def push(self, x: int) -> None:\n",
        "        self.in_stack.append(x)\n",
        "\n",
        "    def pop(self) -> int:\n",
        "        self.move()\n",
        "        return self.out_stack.pop()\n",
        "\n",
        "    def peek(self) -> int:\n",
        "        self.move()\n",
        "        return self.out_stack[-1]\n",
        "\n",
        "    def empty(self) -> bool:\n",
        "        return not self.in_stack and not self.out_stack\n",
        "\n",
        "    def move(self):\n",
        "        if not self.out_stack:\n",
        "            while self.in_stack:\n",
        "                self.out_stack.append(self.in_stack.pop())\n"
      ],
      "metadata": {
        "id": "yrrgIWVvYxVE"
      },
      "execution_count": null,
      "outputs": []
    },
    {
      "cell_type": "markdown",
      "source": [
        "# 2. LeetCode 232. Implement Queue using Stacks\n",
        "\n",
        "## 🔸 문제 설명\n",
        "두 개의 스택만을 이용해 Queue (FIFO)를 구현해야 합니다.  \n",
        "다음 연산을 구현해야 합니다:\n",
        "- `push(x)` : 원소 x를 큐에 삽입\n",
        "- `pop()` : 큐의 맨 앞 원소를 제거\n",
        "- `peek()` : 큐의 맨 앞 원소를 확인\n",
        "- `empty()` : 큐가 비었는지 확인\n",
        "\n",
        "## 🔹 접근 방법\n",
        "- 두 개의 스택(`in_stack`, `out_stack`)을 사용\n",
        "- `push`: `in_stack`에 원소 삽입\n",
        "- `pop` / `peek`: `out_stack`에 원소가 없으면 `in_stack`의 원소를 모두 꺼내 반대로 넣어준다\n",
        "  → 이렇게 하면 FIFO 순서가 유지됨"
      ],
      "metadata": {
        "id": "h3xkY4MhYxxr"
      }
    }
  ]
}