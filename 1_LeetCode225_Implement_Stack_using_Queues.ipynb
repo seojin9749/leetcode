{
  "nbformat": 4,
  "nbformat_minor": 0,
  "metadata": {
    "colab": {
      "provenance": []
    },
    "kernelspec": {
      "name": "python3",
      "display_name": "Python 3"
    },
    "language_info": {
      "name": "python"
    }
  },
  "cells": [
    {
      "cell_type": "code",
      "execution_count": null,
      "metadata": {
        "id": "Dz71zTzqTqbe"
      },
      "outputs": [],
      "source": [
        "from collections import deque\n",
        "\n",
        "class MyStack:\n",
        "    def __init__(self):\n",
        "        self.q1 = deque()\n",
        "        self.q2 = deque()\n",
        "\n",
        "    def push(self, x: int) -> None:\n",
        "        self.q1.append(x)\n",
        "\n",
        "    def pop(self) -> int:\n",
        "        while len(self.q1) > 1:\n",
        "            self.q2.append(self.q1.popleft())\n",
        "        val = self.q1.popleft()\n",
        "        self.q1, self.q2 = self.q2, self.q1\n",
        "        return val\n",
        "\n",
        "    def top(self) -> int:\n",
        "        while len(self.q1) > 1:\n",
        "            self.q2.append(self.q1.popleft())\n",
        "        val = self.q1.popleft()\n",
        "        self.q2.append(val)\n",
        "        self.q1, self.q2 = self.q2, self.q1\n",
        "        return val\n",
        "\n",
        "    def empty(self) -> bool:\n",
        "        return not self.q1\n"
      ]
    },
    {
      "cell_type": "markdown",
      "source": [
        "# 1. LeetCode 225. Implement Stack using Queues\n",
        "- `push(x)`는 간단하게 `q1`에 추가합니다.\n",
        "- `pop()`은 `q1`에서 마지막 하나만 남기고 `q2`로 옮깁니다. 마지막 하나는 스택의 top이므로 제거합니다.\n",
        "- `top()`은 `pop()`과 거의 같지만, 마지막 원소를 다시 `q2`에 넣어줍니다.\n",
        "- 항상 마지막에 `q1`, `q2`를 swap해서 `q1`이 다시 메인 큐가 되게 합니다."
      ],
      "metadata": {
        "id": "k2SpQ-HWVMnj"
      }
    }
  ]
}