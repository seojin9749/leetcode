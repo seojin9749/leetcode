{
  "nbformat": 4,
  "nbformat_minor": 0,
  "metadata": {
    "colab": {
      "provenance": []
    },
    "kernelspec": {
      "name": "python3",
      "display_name": "Python 3"
    },
    "language_info": {
      "name": "python"
    }
  },
  "cells": [
    {
      "cell_type": "code",
      "execution_count": null,
      "metadata": {
        "id": "9uQipOvOQXO-"
      },
      "outputs": [],
      "source": [
        "from collections import deque\n",
        "\n",
        "class MyStack:\n",
        "\n",
        "    def __init__(self):\n",
        "        self.q1 = deque()\n",
        "        self.q2 = deque()\n",
        "\n",
        "    def push(self, x: int) -> None:\n",
        "        self.q1.append(x)\n",
        "\n",
        "    def pop(self) -> int:\n",
        "        while len(self.q1) > 1:\n",
        "            self.q2.append(self.q1.popleft())\n",
        "        val = self.q1.popleft()\n",
        "        self.q1, self.q2 = self.q2, self.q1\n",
        "        return val\n",
        "\n",
        "    def top(self) -> int:\n",
        "        while len(self.q1) > 1:\n",
        "            self.q2.append(self.q1.popleft())\n",
        "        val = self.q1.popleft()\n",
        "        self.q2.append(val)\n",
        "        self.q1, self.q2 = self.q2, self.q1\n",
        "        return val\n",
        "\n",
        "    def empty(self) -> bool:\n",
        "        return not self.q1\n"
      ]
    },
    {
      "cell_type": "markdown",
      "source": [
        "# 1. LeetCode 225. Implement Stack using Queues\n",
        "\n",
        "## 📘 문제 설명\n",
        "스택은 LIFO(Last In First Out) 자료구조입니다. 큐(Queue)를 사용해서 스택의 기능을 구현하라는 문제입니다.  \n",
        "\n",
        "- `push(x)` – 원소 x를 스택에 넣습니다.\n",
        "- `pop()` – 스택의 맨 위 원소를 제거합니다.\n",
        "- `top()` – 스택의 맨 위 원소를 가져옵니다.\n",
        "- `empty()` – 스택이 비었는지 여부를 반환합니다.\n",
        "\n",
        "큐의 기본 기능만 사용할 수 있습니다:\n",
        "- `enqueue(x)` → `append(x)`\n",
        "- `dequeue()` → `popleft()`\n",
        "- 길이 확인 → `len()`\n",
        "- 비었는지 확인 → `not q`\n",
        "\n",
        "## 💡 풀이 접근 방법\n",
        "- 두 개의 큐 `q1`, `q2`를 사용합니다.\n",
        "- `push()` 할 때는 `q1`에 원소를 그냥 넣습니다.\n",
        "- `pop()` 또는 `top()` 할 때는 `q1`에서 마지막 원소 하나만 남기고 모두 `q2`로 옮깁니다.\n",
        "- `pop()`은 마지막 원소 제거, `top()`은 다시 `q2`에 추가\n",
        "- 마지막에 `q1`, `q2`를 서로 바꿔줍니다.\n"
      ],
      "metadata": {
        "id": "jVDHGjyiQ5pM"
      }
    }
  ]
}