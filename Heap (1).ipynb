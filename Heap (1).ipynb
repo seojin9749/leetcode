{
  "nbformat": 4,
  "nbformat_minor": 0,
  "metadata": {
    "colab": {
      "provenance": []
    },
    "kernelspec": {
      "name": "python3",
      "display_name": "Python 3"
    },
    "language_info": {
      "name": "python"
    }
  },
  "cells": [
    {
      "cell_type": "markdown",
      "source": [
        "# 3번과제"
      ],
      "metadata": {
        "id": "hFCtqfbMJE9W"
      }
    },
    {
      "cell_type": "code",
      "source": [
        "#  과제 3: 생일 데이터를 교재 heap.py 코드로 힙에 저장하고, 생일이 느린 순서로 10명 출력\n",
        "\n",
        "import pandas as pd\n",
        "from datetime import datetime\n",
        "\n",
        "# 1. 생일 데이터 불러오기\n",
        "df = pd.read_csv(\"birthday.csv\")\n",
        "\n",
        "# 2. 생년월일 열 정제 및 datetime 형식으로 변환\n",
        "df[\"생년월일8자리(예.20040101)\"] = df[\"생년월일8자리(예.20040101)\"].astype(str).str.replace(\".0\", \"\", regex=False)\n",
        "df[\"생일\"] = pd.to_datetime(df[\"생년월일8자리(예.20040101)\"], format=\"%Y%m%d\", errors='coerce')\n",
        "\n",
        "# 3. 교재 heap.py 코드 복붙\n",
        "class Heap:\n",
        "    def __init__(self, *args):\n",
        "        if len(args) != 0:\n",
        "            self.__A = args[0]\n",
        "        else:\n",
        "            self.__A = []\n",
        "\n",
        "    def insert(self, x):\n",
        "        self.__A.append(x)\n",
        "        self.__percolateUp(len(self.__A) - 1)\n",
        "\n",
        "    def __percolateUp(self, i: int):\n",
        "        parent = (i - 1) // 2\n",
        "        if i > 0 and self.__A[i] > self.__A[parent]:\n",
        "            self.__A[i], self.__A[parent] = self.__A[parent], self.__A[i]\n",
        "            self.__percolateUp(parent)\n",
        "\n",
        "    def deleteMax(self):\n",
        "        if not self.isEmpty():\n",
        "            max_item = self.__A[0]\n",
        "            last_item = self.__A.pop()\n",
        "            if not self.isEmpty():\n",
        "                self.__A[0] = last_item\n",
        "                self.__percolateDown(0)\n",
        "            return max_item\n",
        "        else:\n",
        "            return None\n",
        "\n",
        "    def __percolateDown(self, i: int):\n",
        "        child = 2 * i + 1\n",
        "        right = 2 * i + 2\n",
        "        if child <= len(self.__A) - 1:\n",
        "            if right <= len(self.__A) - 1 and self.__A[child] < self.__A[right]:\n",
        "                child = right\n",
        "            if self.__A[i] < self.__A[child]:\n",
        "                self.__A[i], self.__A[child] = self.__A[child], self.__A[i]\n",
        "                self.__percolateDown(child)\n",
        "\n",
        "    def max(self):\n",
        "        return self.__A[0]\n",
        "\n",
        "    def buildHeap(self):\n",
        "        for i in range((len(self.__A) - 2) // 2, -1, -1):\n",
        "            self.__percolateDown(i)\n",
        "\n",
        "    def isEmpty(self) -> bool:\n",
        "        return len(self.__A) == 0\n",
        "\n",
        "    def clear(self):\n",
        "        self.__A = []\n",
        "\n",
        "    def size(self) -> int:\n",
        "        return len(self.__A)\n",
        "\n",
        "# 4. 힙 생성 후 생일 데이터를 timestamp 기준으로 저장\n",
        "heap = Heap()\n",
        "for _, row in df.iterrows():\n",
        "    if pd.notnull(row[\"생일\"]):\n",
        "        heap.insert((row[\"생일\"].timestamp(), row[\"이름\"]))\n",
        "\n",
        "\n",
        "top_10 = []\n",
        "for _ in range(10):\n",
        "    if not heap.isEmpty():\n",
        "        timestamp, name = heap.deleteMax()\n",
        "        birthday = datetime.fromtimestamp(timestamp).strftime(\"%Y-%m-%d\")\n",
        "        top_10.append((name, birthday))\n",
        "\n",
        "# 출력 결과 보여주기\n",
        "\n",
        "for i, (name, birthday) in enumerate(top_10, 1):\n",
        "    print(f\"{i}. {name} - {birthday}\")\n",
        "\n"
      ],
      "metadata": {
        "colab": {
          "base_uri": "https://localhost:8080/"
        },
        "id": "nDhxyuqzJD-9",
        "outputId": "464161ec-c6e0-4c94-f600-330703519b0a"
      },
      "execution_count": 5,
      "outputs": [
        {
          "output_type": "stream",
          "name": "stdout",
          "text": [
            "1. 신수민 - 2005-12-30\n",
            "2. 이서영 - 2005-12-25\n",
            "3. 강민주 - 2005-12-14\n",
            "4. 김민경 - 2005-12-02\n",
            "5. 이서영 - 2005-11-12\n",
            "6. 배시은 - 2005-11-02\n",
            "7. 김여원 - 2005-10-31\n",
            "8. 이서진 - 2005-10-28\n",
            "9. 서홍빈 - 2005-10-24\n",
            "10. 김예빈 - 2005-10-19\n"
          ]
        }
      ]
    },
    {
      "cell_type": "markdown",
      "source": [
        "#4번 과제"
      ],
      "metadata": {
        "id": "_-4B20SKJCii"
      }
    },
    {
      "cell_type": "code",
      "source": [
        "# 📌 과제 4: 이름 + 생일 기준으로 정확하게 조원만 출력 (동명이인 필터링 포함)\n",
        "\n",
        "import pandas as pd\n",
        "from datetime import datetime\n",
        "\n",
        "# 1. CSV 불러오기\n",
        "df = pd.read_csv(\"birthday.csv\")\n",
        "df[\"생년월일8자리(예.20040101)\"] = df[\"생년월일8자리(예.20040101)\"].astype(str).str.replace(\".0\", \"\", regex=False)\n",
        "df[\"생일\"] = pd.to_datetime(df[\"생년월일8자리(예.20040101)\"], format=\"%Y%m%d\", errors='coerce')\n",
        "\n",
        "# 2. 조원 이름 + 생일 쌍 (확실한 필터링용)\n",
        "group2_name_birth = [\n",
        "    (\"선예영\", \"2003-01-22\"),\n",
        "    (\"황채원\", \"2004-08-13\"),\n",
        "    (\"나현주\", \"2004-12-13\"),\n",
        "    (\"윤서현\", \"2004-03-15\"),\n",
        "    (\"이승주\", \"2004-10-05\"),\n",
        "    (\"조승연\", \"2005-01-19\"),\n",
        "    (\"남수연\", \"2003-07-11\"),\n",
        "    (\"김민선\", \"2003-05-04\"),\n",
        "    (\"김하린\", \"2003-02-12\"),\n",
        "    (\"이서진\", \"2005-10-28\")  # 이 생일에 해당하는 이서진만 포함\n",
        "]\n",
        "\n",
        "# 3. 연결 리스트 클래스 정의\n",
        "class BidirectNode:\n",
        "    def __init__(self, item, prev, next):\n",
        "        self.item = item\n",
        "        self.prev = prev\n",
        "        self.next = next\n",
        "\n",
        "class CircularDoublyLinkedList:\n",
        "    def __init__(self):\n",
        "        self.__head = BidirectNode(\"dummy\", None, None)\n",
        "        self.__head.prev = self.__head\n",
        "        self.__head.next = self.__head\n",
        "        self.__numItems = 0\n",
        "\n",
        "    def append(self, newItem) -> None:\n",
        "        prev = self.__head.prev\n",
        "        newNode = BidirectNode(newItem, prev, self.__head)\n",
        "        prev.next = newNode\n",
        "        self.__head.prev = newNode\n",
        "        self.__numItems += 1\n",
        "\n",
        "    def __iter__(self):\n",
        "        return CircularDoublyLinkedListIterator(self)\n",
        "\n",
        "    def getNode(self, i: int) -> BidirectNode:\n",
        "        curr = self.__head\n",
        "        for index in range(i + 1):\n",
        "            curr = curr.next\n",
        "        return curr\n",
        "\n",
        "class CircularDoublyLinkedListIterator:\n",
        "    def __init__(self, alist):\n",
        "        self.__head = alist.getNode(-1)\n",
        "        self.iterPosition = self.__head.next\n",
        "\n",
        "    def __next__(self):\n",
        "        if self.iterPosition == self.__head:\n",
        "            raise StopIteration\n",
        "        else:\n",
        "            item = self.iterPosition.item\n",
        "            self.iterPosition = self.iterPosition.next\n",
        "            return item\n",
        "\n",
        "    def __iter__(self):\n",
        "        return self\n",
        "\n",
        "# 4. 리스트에 (이름, 생일) 저장\n",
        "cdll = CircularDoublyLinkedList()\n",
        "for _, row in df.iterrows():\n",
        "    if pd.notnull(row[\"생일\"]):\n",
        "        name = row[\"이름\"]\n",
        "        birth = row[\"생일\"].strftime(\"%Y-%m-%d\")\n",
        "        cdll.append((name, birth))\n",
        "\n",
        "# 5. 정확한 이름+생일 쌍에 포함되는 경우만 출력\n",
        "\n",
        "for name, birth in cdll:\n",
        "    if (name, birth) in group2_name_birth:\n",
        "        print(f\"{name} - {birth}\")\n"
      ],
      "metadata": {
        "colab": {
          "base_uri": "https://localhost:8080/"
        },
        "id": "xg4-MAZsMneg",
        "outputId": "49593d08-32d9-46b0-bd06-af232ab3ca39"
      },
      "execution_count": 6,
      "outputs": [
        {
          "output_type": "stream",
          "name": "stdout",
          "text": [
            "김하린 - 2003-02-12\n",
            "선예영 - 2003-01-22\n",
            "이서진 - 2005-10-28\n",
            "이승주 - 2004-10-05\n",
            "조승연 - 2005-01-19\n"
          ]
        }
      ]
    },
    {
      "cell_type": "markdown",
      "source": [
        "#5 교재 8장 연습 문제\n",
        "\n",
        "###1)\n",
        "임의의 최대 힙에서 더 얕은 곳에 있는 원소가 더 깊은 곳에 있는 원소보다 더 작은 값을 가질 수 있다.\n",
        "예를 들어보면, heap[1] = 7, heap[2] = 10, heap[5] = 9인 힙이 있다. heap[1]과 heap[2]는 깊이가 같고, heap[5]는 heap[1]보다 깊이가 깊지만 값은 작다. heap[5]는 heap[2]의 자식 노드로, heap[2] > heap[5]이기 때문에 힙의 조건을 만족한다.\n",
        "\n",
        "\n",
        "###2)\n",
        "최대 힙의 마지막 원소가 항상 가장 작은 값은 아니다.\n",
        "heap[0] = 10, heap[1] = 7, heap[2] = 9이고 이 두 노드가 말단 노드인 힙이 있다고 한다. 이 힙은 heap[0] > heap[1], heap[0] > heap[2]가 되어 힙의 조건을 만족하며, heap[n-2] < heap[n-1]을 만족하는 힙이다.\n",
        "\n",
        "###3)\n",
        "길이가 n인 임의의 리스트를 힙으로 만들 때, 마지막 요소의 인덱스는 n-1이다. 따라서 인덱스가 ((n-1)-1)//2 즉 (n-2)//2부터 0까지의 인덱스를 갖는 요소를 대상으로 스며내리기를 진행한다.\n",
        "따라서 루트의 자격으로 스며내리기를 하지 않고 그냥 넘어가는 원소 수는 정확하게 n-1-(n-2)//2개이다.\n",
        "\n",
        "###4)\n",
        "길이가 n인 리스트를 대상으로 하는 스며내리기 알고리즘에서 최악의 경우 Θ(logn)의 시간이 소요된다. 이진 탐색 트리의 깊이에 따라 층을 나누면 의 개수는 약 (logn + 1)개가 된다. 스며내리기의 대상이 되는 리스트의 인덱스가 0인 요소가 이 리스트의 가장 작은 값이라면 최악의 경우가 되어, 스며내리기를 logn번 진행해야 한다.\n",
        "최선의 경우에는 Θ(1)의 시간이 소요된다. 스며내리기의 대상이 되는 리스트의 인덱스가 0인 요소가 이 리스트의 가장 큰 값이라면 인덱스가 1, 2인 요소보다 크기 때문에 스며내리기는 진행되지 않고 멈춘다.\n",
        "\n",
        "###5)\n",
        "이 문제에서 말하는 마지막 원소가 단순히 리스트의 마지막 원소라면 매우 간단히 원소를 삭제할 수 있다.\n",
        "\n",
        "하지만 여기서 말하는 마지막 원소가 우선순위의 마지막이 되는 원소라면 힙의 마지막 원소를 삭제하는 작업은 그렇게 간단하지는 않다. 연습문제 2번에서 확인한 바와 같이 마지막 원소가 항상 가장 작은 값을 가지지도 않고, 연습문제 1번에서 확인한 바와 같이 깊이가 깊은 원소가 항상 깊이가 얕은 원소보다 작은 값을 가지지도 않는다.\n",
        "하지만 힙의 특성상 자식 노드는 부모 노드보다 작은 값을 가지기 때문에, 깊이가 2인 모든 서브 트리들의 원소들만 비교하면 가장 마지막 원소를 어렵지 않게 찾을 수 있다. 겨우 깊이가 2인 서브 트리이기 때문에 원소의 삭제 작업도 간단하다.\n",
        "\n",
        "###6)\n",
        "위쪽부터 시작해서 스며오르기를 반복하여 build_heap() 알고리즘을 구현한다고 해보자. index가 0인 요소에는 이미 맨 위의 요소이므로 스며오르기를 할 수 없다. 따라서 index가 1인 요소부터 index가 n-1(마지막)인 요소까지 진행한다. 처음 스며오르기를 진행할 땐 대상 노드의 깊이가 얕기 때문에 비교와 교체 작업이 많지 않지만, index가 커질수록 대상 노드의 깊이가 깊어져 스며오르기를 logn번 진행해야 할 수도 있다.\n",
        "n/2 * logn + n/4 * log(n-1) + n/8 * log(n-2) + ... + n/(2**(n-1)) * log2 즉 Θ(nlogn)의 시간이 소요된다. 이 방법은 Θ(n)의 시간이 소요되는 스며내리기를 이용한 build_heap() 알고리즘보다 비효율적이다.\n",
        "\n",
        "###7)\n",
        "임의의 원소의 값이 증가했다면, 그 원소에 해당하는 노드를 제거하는 delete_max() 작업을 실행한다. 이 작업에 소요되는 시간은 O(logn)이다. 그리고 증가한 원소의 값을 갖는 노드를 힙에 추가한다. 노드를 추가하는 작업 insert()는 O(logn)의 시간이 든다.\n",
        "이 두 작업을 통해 힙을 O(logn) 시간만에 변화를 반영하여 힙을 수선할 수 있다"
      ],
      "metadata": {
        "id": "EEBqiXtURGu2"
      }
    },
    {
      "cell_type": "markdown",
      "source": [
        "#6번 LeetCode 703.Kth Largest Element in Stream"
      ],
      "metadata": {
        "id": "pqapLttNRtMU"
      }
    },
    {
      "cell_type": "code",
      "source": [
        "import heapq\n",
        "\n",
        "class KthLargest:\n",
        "\n",
        "    def __init__(self, k: int, nums: list[int]):\n",
        "        self.k = k\n",
        "        self.heap = []\n",
        "        for num in nums:\n",
        "            self.add(num)  # 초기 값도 힙에 넣기\n",
        "\n",
        "    def add(self, val: int) -> int:\n",
        "        heapq.heappush(self.heap, val)  # 값 추가\n",
        "        if len(self.heap) > self.k:     # 힙 크기 초과 시 가장 작은 값 제거\n",
        "            heapq.heappop(self.heap)\n",
        "        return self.heap[0]             # k번째 큰 값은 최소 힙의 루트\n"
      ],
      "metadata": {
        "id": "UutYTWwURwmU"
      },
      "execution_count": null,
      "outputs": []
    }
  ]
}